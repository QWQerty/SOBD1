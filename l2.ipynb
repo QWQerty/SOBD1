{
 "cells": [
  {
   "cell_type": "code",
   "execution_count": 1,
   "id": "f70c3901-147b-42ab-af40-5e96431cd4b4",
   "metadata": {},
   "outputs": [],
   "source": [
    "import numpy as np \n",
    "import pandas as pd \n",
    "import os\n",
    "\n",
    "from pyspark.sql.types import *\n",
    "from pyspark.sql.functions import *\n",
    "from pyspark.sql import SparkSession\n",
    "\n",
    "from pyspark.ml import Pipeline\n",
    "from pyspark.ml.feature import VectorAssembler, StringIndexer, VectorIndexer, MinMaxScaler\n",
    "from pyspark.ml.classification import LogisticRegression\n",
    "from pyspark.ml.tuning import ParamGridBuilder, CrossValidator\n",
    "from pyspark.ml.evaluation import BinaryClassificationEvaluator\n",
    "from pyspark.ml.regression import RandomForestRegressor\n",
    "from pyspark.ml.evaluation import RegressionEvaluator\n",
    "\n",
    "spark = SparkSession.builder.master(\"local[*]\").getOrCreate()"
   ]
  },
  {
   "cell_type": "code",
   "execution_count": 2,
   "id": "32c32223-c33d-4ba7-abd5-6386275b91dd",
   "metadata": {},
   "outputs": [
    {
     "name": "stdout",
     "output_type": "stream",
     "text": [
      "+----------+---------+-------+---------------+-------------+--------+--------+\n",
      "|DayofMonth|DayOfWeek|Carrier|OriginAirportID|DestAirportID|DepDelay|ArrDelay|\n",
      "+----------+---------+-------+---------------+-------------+--------+--------+\n",
      "|        19|        5|     DL|          11433|        13303|      -3|       1|\n",
      "|        19|        5|     DL|          14869|        12478|       0|      -8|\n",
      "|        19|        5|     DL|          14057|        14869|      -4|     -15|\n",
      "|        19|        5|     DL|          15016|        11433|      28|      24|\n",
      "|        19|        5|     DL|          11193|        12892|      -6|     -11|\n",
      "|        19|        5|     DL|          10397|        15016|      -1|     -19|\n",
      "|        19|        5|     DL|          15016|        10397|       0|      -1|\n",
      "|        19|        5|     DL|          10397|        14869|      15|      24|\n",
      "|        19|        5|     DL|          10397|        10423|      33|      34|\n",
      "|        19|        5|     DL|          11278|        10397|     323|     322|\n",
      "+----------+---------+-------+---------------+-------------+--------+--------+\n",
      "only showing top 10 rows\n",
      "\n"
     ]
    }
   ],
   "source": [
    "# Чтение данных\n",
    "csv = spark.read.csv('flights.csv', inferSchema=True, header=True)\n",
    "csv.show(10)"
   ]
  },
  {
   "cell_type": "code",
   "execution_count": 3,
   "id": "812f31c5-8104-47ec-9850-3c9603791303",
   "metadata": {},
   "outputs": [],
   "source": [
    "# Выбор нужных столбцов и создание метки для регрессии\n",
    "data1 = csv.select(\"DayofMonth\", \"DayOfWeek\", \"OriginAirportID\", \"DestAirportID\", \"DepDelay\", \"ArrDelay\")"
   ]
  },
  {
   "cell_type": "code",
   "execution_count": 4,
   "id": "29b895d5-3058-45b0-9ddf-5020aab767cd",
   "metadata": {},
   "outputs": [],
   "source": [
    "# Создание признакового вектора\n",
    "assembler = VectorAssembler(inputCols=[\"DayofMonth\", \"DayOfWeek\", \"OriginAirportID\", \"DestAirportID\", \"DepDelay\"], outputCol=\"features\")\n",
    "data1 = assembler.transform(data1)"
   ]
  },
  {
   "cell_type": "code",
   "execution_count": 5,
   "id": "95803f55-bee3-4f98-b92b-2b6a9a47d2f2",
   "metadata": {},
   "outputs": [],
   "source": [
    "# Разделение данных на обучающий и тестовый наборы\n",
    "splits = data1.randomSplit([0.7, 0.3])\n",
    "train = splits[0]\n",
    "test = splits[1]"
   ]
  },
  {
   "cell_type": "code",
   "execution_count": 6,
   "id": "94099f6f-fe2d-46ba-8f6e-5c7c80b76039",
   "metadata": {},
   "outputs": [],
   "source": [
    "# Создание и обучение модели RandomForestRegressor\n",
    "rf = RandomForestRegressor(featuresCol=\"features\", labelCol=\"ArrDelay\")\n",
    "pipeline_rf = Pipeline(stages=[rf])\n",
    "\n",
    "# Создание сетки параметров для подбора\n",
    "paramGrid_rf = ParamGridBuilder().addGrid(rf.maxDepth, [5, 10]).build()\n",
    "\n",
    "# Оценщик для регрессии\n",
    "evaluator_rf = RegressionEvaluator(labelCol=\"ArrDelay\")"
   ]
  },
  {
   "cell_type": "code",
   "execution_count": 7,
   "id": "3bef616a-c814-49b5-bb96-ab0e0a418820",
   "metadata": {},
   "outputs": [],
   "source": [
    "# Кросс-валидация с подбором параметров\n",
    "crossval_rf = CrossValidator(estimator=pipeline_rf,\n",
    "                             estimatorParamMaps=paramGrid_rf,\n",
    "                             evaluator=evaluator_rf,\n",
    "                             numFolds=3)"
   ]
  },
  {
   "cell_type": "code",
   "execution_count": 8,
   "id": "1a35da3f-9a08-4a9d-b75a-7fe20391bb86",
   "metadata": {},
   "outputs": [],
   "source": [
    "# Обучение модели случайного леса\n",
    "model_rf = crossval_rf.fit(train)"
   ]
  },
  {
   "cell_type": "code",
   "execution_count": 9,
   "id": "dbf906a1-9c5a-4395-8d3b-9086d0c3c5ec",
   "metadata": {},
   "outputs": [
    {
     "name": "stdout",
     "output_type": "stream",
     "text": [
      "+----------+---------+---------------+-------------+--------+--------+--------------------+-------------------+\n",
      "|DayofMonth|DayOfWeek|OriginAirportID|DestAirportID|DepDelay|ArrDelay|            features|         prediction|\n",
      "+----------+---------+---------------+-------------+--------+--------+--------------------+-------------------+\n",
      "|         1|        1|          10140|        10397|      -4|     -11|[1.0,1.0,10140.0,...|-7.1845420566431715|\n",
      "|         1|        1|          10140|        11259|      21|      19|[1.0,1.0,10140.0,...| 17.239963791496614|\n",
      "|         1|        1|          10140|        11292|      -4|      -8|[1.0,1.0,10140.0,...|  -7.67980527529289|\n",
      "|         1|        1|          10140|        11292|      -1|      -6|[1.0,1.0,10140.0,...| -6.472043296648529|\n",
      "|         1|        1|          10140|        11298|     -10|     -13|[1.0,1.0,10140.0,...|-11.469244153319925|\n",
      "|         1|        1|          10140|        11298|      -6|     -25|[1.0,1.0,10140.0,...| -9.598097065561726|\n",
      "|         1|        1|          10140|        11298|      87|      68|[1.0,1.0,10140.0,...|  78.74501991281542|\n",
      "|         1|        1|          10140|        12191|      32|      18|[1.0,1.0,10140.0,...|  30.02945871518055|\n",
      "|         1|        1|          10140|        12264|       2|      -5|[1.0,1.0,10140.0,...| -4.928137338816656|\n",
      "|         1|        1|          10140|        12266|      27|      21|[1.0,1.0,10140.0,...| 20.630933795806506|\n",
      "+----------+---------+---------------+-------------+--------+--------+--------------------+-------------------+\n",
      "only showing top 10 rows\n",
      "\n"
     ]
    }
   ],
   "source": [
    "# Прогнозирование на тестовом наборе\n",
    "predictions_rf = model_rf.transform(test)\n",
    "\n",
    "# Оценка результатов\n",
    "predictions_rf.show(10)"
   ]
  },
  {
   "cell_type": "code",
   "execution_count": 10,
   "id": "c3057792-24e3-4ea5-8ea2-d3a71981b68b",
   "metadata": {},
   "outputs": [
    {
     "name": "stdout",
     "output_type": "stream",
     "text": [
      "Root Mean Squared Error (Random Forest): 19.65235649624361\n"
     ]
    }
   ],
   "source": [
    "# Оценка результатов\n",
    "rmse_rf = evaluator_rf.evaluate(predictions_rf, {evaluator_rf.metricName: \"rmse\"})\n",
    "print(f\"Root Mean Squared Error (Random Forest): {rmse_rf}\")"
   ]
  },
  {
   "cell_type": "code",
   "execution_count": 11,
   "id": "bc77cb3b-74aa-4b0b-827f-e2b5250bd39d",
   "metadata": {},
   "outputs": [],
   "source": [
    "# Выбор нужных столбцов и создание метки для бинарной классификации\n",
    "data2 = csv.select(\"DayofMonth\", \"DayOfWeek\", \"OriginAirportID\", \"DestAirportID\", \"DepDelay\", ((col(\"ArrDelay\") > 15).cast(\"Int\").alias(\"label\")))\n"
   ]
  },
  {
   "cell_type": "code",
   "execution_count": 12,
   "id": "22f26517-1b83-4bac-84e4-04e9a9c425fe",
   "metadata": {},
   "outputs": [],
   "source": [
    "# Создание признакового вектора\n",
    "assembler = VectorAssembler(inputCols=[\"DayofMonth\", \"DayOfWeek\", \"OriginAirportID\", \"DestAirportID\", \"DepDelay\"], outputCol=\"features\")\n",
    "data2 = assembler.transform(data2)\n"
   ]
  },
  {
   "cell_type": "code",
   "execution_count": 13,
   "id": "c0816dd3-8d9c-44aa-9db9-dff989cdfb9a",
   "metadata": {},
   "outputs": [],
   "source": [
    "# Разделение данных на обучающий и тестовый наборы\n",
    "splits = data2.randomSplit([0.7, 0.3])\n",
    "train = splits[0]\n",
    "test = splits[1]"
   ]
  },
  {
   "cell_type": "code",
   "execution_count": 14,
   "id": "142e528d-6b13-4412-a780-528be9e72054",
   "metadata": {},
   "outputs": [],
   "source": [
    "# Создание и обучение модели Logistic Regression\n",
    "lr = LogisticRegression(featuresCol=\"features\", labelCol=\"label\", maxIter=10, regParam=0.3, elasticNetParam=0.8)\n",
    "pipeline_lr = Pipeline(stages=[lr])\n",
    "\n",
    "# Создание сетки параметров для подбора\n",
    "paramGrid_lr = ParamGridBuilder().addGrid(lr.regParam, [0.1, 0.01]).build()\n",
    "\n",
    "# Оценщик для бинарной классификации\n",
    "evaluator_lr = BinaryClassificationEvaluator(labelCol=\"label\")"
   ]
  },
  {
   "cell_type": "code",
   "execution_count": 15,
   "id": "5f6660b6-03be-4842-a301-f6ba4976c4d9",
   "metadata": {},
   "outputs": [],
   "source": [
    "# Кросс-валидация с подбором параметров\n",
    "crossval_lr = CrossValidator(estimator=pipeline_lr,\n",
    "                             estimatorParamMaps=paramGrid_lr,\n",
    "                             evaluator=evaluator_lr,\n",
    "                             numFolds=3)"
   ]
  },
  {
   "cell_type": "code",
   "execution_count": 16,
   "id": "29b0b7e6-89ce-41f4-a6d5-d9329ed93d86",
   "metadata": {},
   "outputs": [],
   "source": [
    "# Обучение модели логистической регрессии\n",
    "model_lr = crossval_lr.fit(train)"
   ]
  },
  {
   "cell_type": "code",
   "execution_count": 17,
   "id": "22e29c82-edd4-4ac4-9a43-ecdf061108f5",
   "metadata": {},
   "outputs": [
    {
     "name": "stdout",
     "output_type": "stream",
     "text": [
      "+----------+---------+---------------+-------------+--------+-----+--------------------+--------------------+--------------------+----------+\n",
      "|DayofMonth|DayOfWeek|OriginAirportID|DestAirportID|DepDelay|label|            features|       rawPrediction|         probability|prediction|\n",
      "+----------+---------+---------------+-------------+--------+-----+--------------------+--------------------+--------------------+----------+\n",
      "|         1|        1|          10140|        10397|      -4|    0|[1.0,1.0,10140.0,...|[1.86770426424062...|[0.86619241816556...|       0.0|\n",
      "|         1|        1|          10140|        10397|      -2|    0|[1.0,1.0,10140.0,...|[1.81333461358252...|[0.85976440972877...|       0.0|\n",
      "|         1|        1|          10140|        10821|       8|    0|[1.0,1.0,10140.0,...|[1.54148636029204...|[0.82368069439152...|       0.0|\n",
      "|         1|        1|          10140|        11259|      -3|    0|[1.0,1.0,10140.0,...|[1.84051943891157...|[0.86301012896704...|       0.0|\n",
      "|         1|        1|          10140|        11259|      -1|    0|[1.0,1.0,10140.0,...|[1.78614978825347...|[0.85645458030321...|       0.0|\n",
      "|         1|        1|          10140|        11259|       0|    0|[1.0,1.0,10140.0,...|[1.75896496292442...|[0.85307998171952...|       0.0|\n",
      "|         1|        1|          10140|        11292|      -4|    0|[1.0,1.0,10140.0,...|[1.86770426424062...|[0.86619241816556...|       0.0|\n",
      "|         1|        1|          10140|        11292|       0|    0|[1.0,1.0,10140.0,...|[1.75896496292442...|[0.85307998171952...|       0.0|\n",
      "|         1|        1|          10140|        11298|      -6|    0|[1.0,1.0,10140.0,...|[1.92207391489872...|[0.87236952369008...|       0.0|\n",
      "|         1|        1|          10140|        11298|      -4|    0|[1.0,1.0,10140.0,...|[1.86770426424062...|[0.86619241816556...|       0.0|\n",
      "+----------+---------+---------------+-------------+--------+-----+--------------------+--------------------+--------------------+----------+\n",
      "only showing top 10 rows\n",
      "\n",
      "+----------+---------+---------------+-------------+--------+-----+--------------------+--------------------+--------------------+----------+\n",
      "|DayofMonth|DayOfWeek|OriginAirportID|DestAirportID|DepDelay|label|            features|       rawPrediction|         probability|prediction|\n",
      "+----------+---------+---------------+-------------+--------+-----+--------------------+--------------------+--------------------+----------+\n",
      "|         1|        1|          10140|        11298|      87|    1|[1.0,1.0,10140.0,...|[-0.6061148407027...|[0.35294596385301...|       1.0|\n",
      "|         1|        1|          10397|        11278|      94|    1|[1.0,1.0,10397.0,...|[-0.7964086180061...|[0.31079427397776...|       1.0|\n",
      "|         1|        1|          10397|        13303|     115|    1|[1.0,1.0,10397.0,...|[-1.3672899499161...|[0.20305804867850...|       1.0|\n",
      "|         1|        1|          10397|        13871|      73|    1|[1.0,1.0,10397.0,...|[-0.2255272860961...|[0.44385594616840...|       1.0|\n",
      "|         1|        1|          10397|        14100|      82|    1|[1.0,1.0,10397.0,...|[-0.4701907140575...|[0.38457110514253...|       1.0|\n",
      "|         1|        1|          10397|        15304|     115|    1|[1.0,1.0,10397.0,...|[-1.3672899499161...|[0.20305804867850...|       1.0|\n",
      "|         1|        1|          10529|        11278|      99|    1|[1.0,1.0,10529.0,...|[-0.9323327446513...|[0.28245169093492...|       1.0|\n",
      "|         1|        1|          10693|        11618|      70|    1|[1.0,1.0,10693.0,...|[-0.1439728101089...|[0.46406884163828...|       1.0|\n",
      "|         1|        1|          10693|        12266|     115|    1|[1.0,1.0,10693.0,...|[-1.3672899499161...|[0.20305804867850...|       1.0|\n",
      "|         1|        1|          10721|        10821|     150|    1|[1.0,1.0,10721.0,...|[-2.3187588364328...|[0.08958123265950...|       1.0|\n",
      "+----------+---------+---------------+-------------+--------+-----+--------------------+--------------------+--------------------+----------+\n",
      "only showing top 10 rows\n",
      "\n"
     ]
    }
   ],
   "source": [
    "# Прогнозирование на тестовом наборе\n",
    "predictions_lr = model_lr.transform(test)\n",
    "\n",
    "# Оценка результатов\n",
    "predictions_lr.show(10)\n",
    "\n",
    "# Отображение только строк с предсказанием 1\n",
    "predictions_lr.filter(predictions_lr[\"prediction\"] == 1).show(10)"
   ]
  },
  {
   "cell_type": "code",
   "execution_count": 18,
   "id": "829c1884-5fe4-4866-bbe5-ab4af48aa023",
   "metadata": {},
   "outputs": [
    {
     "name": "stdout",
     "output_type": "stream",
     "text": [
      "Area Under ROC (Logistic Regression): 0.9228066991369412\n"
     ]
    }
   ],
   "source": [
    "# Оценка результатов\n",
    "areaUnderROC_lr = evaluator_lr.evaluate(predictions_lr)\n",
    "print(f\"Area Under ROC (Logistic Regression): {areaUnderROC_lr}\")"
   ]
  }
 ],
 "metadata": {
  "kernelspec": {
   "display_name": "Python 3 (ipykernel)",
   "language": "python",
   "name": "python3"
  },
  "language_info": {
   "codemirror_mode": {
    "name": "ipython",
    "version": 3
   },
   "file_extension": ".py",
   "mimetype": "text/x-python",
   "name": "python",
   "nbconvert_exporter": "python",
   "pygments_lexer": "ipython3",
   "version": "3.11.6"
  }
 },
 "nbformat": 4,
 "nbformat_minor": 5
}
