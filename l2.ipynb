{
 "cells": [
  {
   "cell_type": "code",
   "execution_count": 1,
   "id": "f70c3901-147b-42ab-af40-5e96431cd4b4",
   "metadata": {},
   "outputs": [],
   "source": [
    "import numpy as np \n",
    "import pandas as pd \n",
    "import os\n",
    "\n",
    "from pyspark.sql.types import *\n",
    "from pyspark.sql.functions import *\n",
    "from pyspark.sql import SparkSession\n",
    "\n",
    "from pyspark.ml import Pipeline\n",
    "from pyspark.ml.feature import VectorAssembler, StringIndexer, VectorIndexer, MinMaxScaler\n",
    "from pyspark.ml.classification import LogisticRegression\n",
    "from pyspark.ml.tuning import ParamGridBuilder, CrossValidator\n",
    "from pyspark.ml.evaluation import BinaryClassificationEvaluator\n",
    "from pyspark.ml.regression import RandomForestRegressor\n",
    "from pyspark.ml.evaluation import RegressionEvaluator\n",
    "\n",
    "spark = SparkSession.builder.master(\"local[*]\").getOrCreate()"
   ]
  },
  {
   "cell_type": "code",
   "execution_count": 2,
   "id": "32c32223-c33d-4ba7-abd5-6386275b91dd",
   "metadata": {},
   "outputs": [],
   "source": [
    "# Чтение данных\n",
    "df = spark.read.csv('the-reddit-covid-dataset-comments.csv', inferSchema=True, header=True)"
   ]
  },
  {
   "cell_type": "code",
   "execution_count": 3,
   "id": "4da35ce6-2d19-4ce1-b32b-ad603b21022d",
   "metadata": {},
   "outputs": [],
   "source": [
    "# Создайте выборку\n",
    "df = df.sample(withReplacement=False, fraction=0.01, seed=42)"
   ]
  },
  {
   "cell_type": "code",
   "execution_count": 4,
   "id": "7be3cf15-9ad9-442e-9c87-48435b675a2d",
   "metadata": {},
   "outputs": [
    {
     "data": {
      "text/html": [
       "<div>\n",
       "<style scoped>\n",
       "    .dataframe tbody tr th:only-of-type {\n",
       "        vertical-align: middle;\n",
       "    }\n",
       "\n",
       "    .dataframe tbody tr th {\n",
       "        vertical-align: top;\n",
       "    }\n",
       "\n",
       "    .dataframe thead th {\n",
       "        text-align: right;\n",
       "    }\n",
       "</style>\n",
       "<table border=\"1\" class=\"dataframe\">\n",
       "  <thead>\n",
       "    <tr style=\"text-align: right;\">\n",
       "      <th></th>\n",
       "      <th>Column Name</th>\n",
       "      <th>Data type</th>\n",
       "    </tr>\n",
       "  </thead>\n",
       "  <tbody>\n",
       "    <tr>\n",
       "      <th>0</th>\n",
       "      <td>type</td>\n",
       "      <td>string</td>\n",
       "    </tr>\n",
       "    <tr>\n",
       "      <th>1</th>\n",
       "      <td>id</td>\n",
       "      <td>string</td>\n",
       "    </tr>\n",
       "    <tr>\n",
       "      <th>2</th>\n",
       "      <td>subreddit_id</td>\n",
       "      <td>string</td>\n",
       "    </tr>\n",
       "    <tr>\n",
       "      <th>3</th>\n",
       "      <td>subreddit_name</td>\n",
       "      <td>string</td>\n",
       "    </tr>\n",
       "    <tr>\n",
       "      <th>4</th>\n",
       "      <td>subreddit_nsfw</td>\n",
       "      <td>string</td>\n",
       "    </tr>\n",
       "    <tr>\n",
       "      <th>5</th>\n",
       "      <td>created_utc</td>\n",
       "      <td>string</td>\n",
       "    </tr>\n",
       "    <tr>\n",
       "      <th>6</th>\n",
       "      <td>permalink</td>\n",
       "      <td>string</td>\n",
       "    </tr>\n",
       "    <tr>\n",
       "      <th>7</th>\n",
       "      <td>body</td>\n",
       "      <td>string</td>\n",
       "    </tr>\n",
       "    <tr>\n",
       "      <th>8</th>\n",
       "      <td>sentiment</td>\n",
       "      <td>string</td>\n",
       "    </tr>\n",
       "    <tr>\n",
       "      <th>9</th>\n",
       "      <td>score</td>\n",
       "      <td>string</td>\n",
       "    </tr>\n",
       "  </tbody>\n",
       "</table>\n",
       "</div>"
      ],
      "text/plain": [
       "      Column Name Data type\n",
       "0            type    string\n",
       "1              id    string\n",
       "2    subreddit_id    string\n",
       "3  subreddit_name    string\n",
       "4  subreddit_nsfw    string\n",
       "5     created_utc    string\n",
       "6       permalink    string\n",
       "7            body    string\n",
       "8       sentiment    string\n",
       "9           score    string"
      ]
     },
     "execution_count": 4,
     "metadata": {},
     "output_type": "execute_result"
    }
   ],
   "source": [
    "# Задайте новые имена столбцов\n",
    "new_column_names = ['type', 'id', 'subreddit_id', 'subreddit_name', 'subreddit_nsfw', 'created_utc', 'permalink', 'body', 'sentiment', 'score'] \n",
    "# Создайте новый датасет с новыми именами столбцов, сохраняя типы данных\n",
    "df = df.toDF(*new_column_names)\n",
    "\n",
    "pd.DataFrame(df.dtypes, columns = ['Column Name','Data type'])"
   ]
  },
  {
   "cell_type": "code",
   "execution_count": 5,
   "id": "d925c039-6862-4001-a96c-6f96dc8cb8d9",
   "metadata": {},
   "outputs": [],
   "source": [
    "# Оставление только указанных столбцов\n",
    "selected_columns = ['id', 'subreddit_name', 'subreddit_nsfw', 'sentiment', 'score']\n",
    "df = df.select(selected_columns)\n"
   ]
  },
  {
   "cell_type": "code",
   "execution_count": 6,
   "id": "78fe02af-8974-4ca5-823d-68d5b09aebcc",
   "metadata": {},
   "outputs": [
    {
     "name": "stdout",
     "output_type": "stream",
     "text": [
      "Исходное количество строк: 484687\n",
      "Количество удаленных строк: 400306\n",
      "Количество оставшихся строк: 84381\n",
      "+-------+--------------+--------------+---------+-----+\n",
      "|     id|subreddit_name|subreddit_nsfw|sentiment|score|\n",
      "+-------+--------------+--------------+---------+-----+\n",
      "|hi1v4vl|        canada|         false|  -0.7269|    1|\n",
      "|hi1satq|           nrl|         false|  -0.7506|   46|\n",
      "+-------+--------------+--------------+---------+-----+\n",
      "only showing top 2 rows\n",
      "\n"
     ]
    }
   ],
   "source": [
    "from pyspark.sql.functions import when, col\n",
    "\n",
    "# Оригинальное количество строк\n",
    "original_count = df.count()\n",
    "\n",
    "# Удаление строк с отсутствующими значениями в score или sentiment\n",
    "df = df.na.drop(subset=['subreddit_nsfw', 'score', 'sentiment'])\n",
    "\n",
    "# Удаление строк в столбце subreddit_nsfw, где значения не являются 'true' или 'false'\n",
    "valid_values = ['true', 'false']\n",
    "df = df.filter(col('subreddit_nsfw').isin(valid_values))\n",
    "\n",
    "# Количество удаленных строк\n",
    "filtered_count = original_count - df.count()\n",
    "\n",
    "# Вывод статистики\n",
    "print(f\"Исходное количество строк: {original_count}\")\n",
    "print(f\"Количество удаленных строк: {filtered_count}\")\n",
    "print(f\"Количество оставшихся строк: {df.count()}\")\n",
    "\n",
    "# Вывод первых двух строк оставшегося DataFrame\n",
    "df.show(2)"
   ]
  },
  {
   "cell_type": "code",
   "execution_count": 7,
   "id": "7222cbed-3a62-418b-9a8d-91c9972c810d",
   "metadata": {},
   "outputs": [
    {
     "name": "stdout",
     "output_type": "stream",
     "text": [
      "+---+--------------+--------------+---------+-----+\n",
      "| id|subreddit_name|subreddit_nsfw|sentiment|score|\n",
      "+---+--------------+--------------+---------+-----+\n",
      "+---+--------------+--------------+---------+-----+\n",
      "\n"
     ]
    }
   ],
   "source": [
    "# Фильтрация строк с null значениями\n",
    "rows_with_null = df.filter(col(\"subreddit_nsfw\").isNull() | col(\"sentiment\").isNull() | col(\"score\").isNull())\n",
    "\n",
    "# Отображение этих строк\n",
    "rows_with_null.show()"
   ]
  },
  {
   "cell_type": "code",
   "execution_count": 8,
   "id": "10cca3ef-f530-450e-bc1a-6090f237938f",
   "metadata": {},
   "outputs": [],
   "source": [
    "# Преобразование столбца \"sentiment\" в числовой формат\n",
    "df = df.withColumn(\"sentiment\", col(\"sentiment\").cast(FloatType()))\n",
    "\n",
    "# Преобразование столбца \"sentiment\" в числовой формат\n",
    "df = df.withColumn(\"score\", col(\"score\").cast(FloatType()))"
   ]
  },
  {
   "cell_type": "code",
   "execution_count": 9,
   "id": "6100ba04-32ac-41ff-8548-dd2af6c7a4a2",
   "metadata": {},
   "outputs": [
    {
     "name": "stdout",
     "output_type": "stream",
     "text": [
      "+-------+--------------------+--------------+---------+-------+\n",
      "|     id|      subreddit_name|subreddit_nsfw|sentiment|  score|\n",
      "+-------+--------------------+--------------+---------+-------+\n",
      "|hi0nq3g|     hermancainaward|         false|     NULL|   NULL|\n",
      "|hhzavaw|coronaviruscircle...|         false|     NULL|   NULL|\n",
      "|hhyvh5d|            mntrolls|         false|     NULL|   NULL|\n",
      "|hhwszps|       ultramarathon|         false|     NULL|   NULL|\n",
      "|hhwnta9|     covid19positive|         false|     NULL| 0.9628|\n",
      "|hhwake1|          conspiracy|         false|     NULL|   NULL|\n",
      "|hhtfnj3|         aznidentity|         false|     NULL|   NULL|\n",
      "|hhrv8t6|          conspiracy|         false|     NULL|-0.5612|\n",
      "|hhrkdbb|     qanoncasualties|         false|     NULL|   NULL|\n",
      "|hhresb4|           askreddit|         false|     NULL|   NULL|\n",
      "|hhq5kim|               eesti|         false|     NULL|   NULL|\n",
      "|hhq53ix|      debatevaccines|         false|     NULL|    0.0|\n",
      "|hhpdv3c|        vaxxhappened|         false|     NULL|    0.0|\n",
      "|hhom51j|            quiktrip|         false|     NULL|   NULL|\n",
      "|hho3gbj|                iowa|         false|     NULL|-0.6221|\n",
      "|hhnypw4|          conspiracy|         false|     NULL|   NULL|\n",
      "|hhn9trw|politicalcompassm...|         false|     NULL|   NULL|\n",
      "|hhlvwe8|      cryptocurrency|         false|     NULL|   NULL|\n",
      "|hhk4kqt|         libertarian|         false|     NULL|   NULL|\n",
      "|hhk2036| talesfromyourserver|         false|     NULL|   NULL|\n",
      "+-------+--------------------+--------------+---------+-------+\n",
      "only showing top 20 rows\n",
      "\n"
     ]
    }
   ],
   "source": [
    "# Фильтрация строк с null значениями\n",
    "rows_with_null = df.filter(col(\"subreddit_nsfw\").isNull() | col(\"sentiment\").isNull() | col(\"score\").isNull())\n",
    "\n",
    "# Отображение этих строк\n",
    "rows_with_null.show()"
   ]
  },
  {
   "cell_type": "code",
   "execution_count": 10,
   "id": "07a9d719-a2de-42c3-b5c3-48862d5401d9",
   "metadata": {},
   "outputs": [
    {
     "name": "stdout",
     "output_type": "stream",
     "text": [
      "+-------+--------------+--------------+---------+-----+\n",
      "|     id|subreddit_name|subreddit_nsfw|sentiment|score|\n",
      "+-------+--------------+--------------+---------+-----+\n",
      "|hi1v4vl|        canada|         false|  -0.7269|  1.0|\n",
      "|hi1q4qb|toiletpaperusa|         false|   0.4815|  3.0|\n",
      "|hi1pi1o|    ukpolitics|         false|  -0.9432|  1.0|\n",
      "+-------+--------------+--------------+---------+-----+\n",
      "only showing top 3 rows\n",
      "\n"
     ]
    }
   ],
   "source": [
    "# Определение квартилей для каждого столбца\n",
    "quantiles = df.stat.approxQuantile([\"sentiment\", \"score\"], [0.25, 0.75], 0.05)\n",
    "\n",
    "# Рассчет межквартильного размаха (IQR)\n",
    "IQR_sentiment = quantiles[0][1] - quantiles[0][0]\n",
    "IQR_score = quantiles[1][1] - quantiles[1][0]\n",
    "\n",
    "# Определение границ выбросов\n",
    "lower_bound_sentiment = quantiles[0][0] - 1.5 * IQR_sentiment\n",
    "upper_bound_sentiment = quantiles[0][1] + 1.5 * IQR_sentiment\n",
    "\n",
    "lower_bound_score = quantiles[1][0] - 1.5 * IQR_score\n",
    "upper_bound_score = quantiles[1][1] + 1.5 * IQR_score\n",
    "\n",
    "# Фильтрация данных для удаления выбросов\n",
    "df_filtered = df.filter((col(\"sentiment\").between(lower_bound_sentiment, upper_bound_sentiment)) &\n",
    "                        (col(\"score\").between(lower_bound_score, upper_bound_score)))\n",
    "\n",
    "# Показать результат\n",
    "df_filtered.show(3)"
   ]
  },
  {
   "cell_type": "code",
   "execution_count": 11,
   "id": "035c8371-3ef5-44e9-8975-43b475454b32",
   "metadata": {},
   "outputs": [
    {
     "name": "stdout",
     "output_type": "stream",
     "text": [
      "+---+--------------+--------------+---------+-----+\n",
      "| id|subreddit_name|subreddit_nsfw|sentiment|score|\n",
      "+---+--------------+--------------+---------+-----+\n",
      "+---+--------------+--------------+---------+-----+\n",
      "\n"
     ]
    }
   ],
   "source": [
    "# Фильтрация строк с null значениями\n",
    "rows_with_null = df_filtered.filter(col(\"subreddit_nsfw\").isNull() | col(\"sentiment\").isNull() | col(\"score\").isNull())\n",
    "\n",
    "# Отображение этих строк\n",
    "rows_with_null.show()"
   ]
  },
  {
   "cell_type": "code",
   "execution_count": 12,
   "id": "628ecbb0-4c6f-4171-a42a-7a06be8dadd1",
   "metadata": {},
   "outputs": [
    {
     "name": "stdout",
     "output_type": "stream",
     "text": [
      "+-------+--------------+--------------+---------+-----+\n",
      "|     id|subreddit_name|subreddit_nsfw|sentiment|score|\n",
      "+-------+--------------+--------------+---------+-----+\n",
      "|hi1v4vl|        canada|             1|  -0.7269|  1.0|\n",
      "|hi1q4qb|toiletpaperusa|             1|   0.4815|  3.0|\n",
      "|hi1pi1o|    ukpolitics|             1|  -0.9432|  1.0|\n",
      "|hi1p77f|     askreddit|             1|   0.2111|  4.0|\n",
      "|hi1nawj|      antiwork|             1|     0.61| 11.0|\n",
      "+-------+--------------+--------------+---------+-----+\n",
      "only showing top 5 rows\n",
      "\n"
     ]
    }
   ],
   "source": [
    "from pyspark.sql.functions import when, col\n",
    "# Замените значения true и false на 1 и 0\n",
    "df_filtered = df_filtered.withColumn(\"subreddit_nsfw\", when(col(\"subreddit_nsfw\") == \"true\", 0).when(col(\"subreddit_nsfw\") == \"false\", 1))\n",
    "\n",
    "# Покажите результат\n",
    "df_filtered.show(5)"
   ]
  },
  {
   "cell_type": "code",
   "execution_count": 13,
   "id": "8969c26f-ca06-4939-8de8-bb42ef8cde0f",
   "metadata": {},
   "outputs": [
    {
     "name": "stdout",
     "output_type": "stream",
     "text": [
      "root\n",
      " |-- id: string (nullable = true)\n",
      " |-- subreddit_name: string (nullable = true)\n",
      " |-- subreddit_nsfw: integer (nullable = true)\n",
      " |-- sentiment: float (nullable = true)\n",
      " |-- score: float (nullable = true)\n",
      "\n"
     ]
    }
   ],
   "source": [
    "df_filtered.printSchema()"
   ]
  },
  {
   "cell_type": "code",
   "execution_count": 14,
   "id": "c620d29e-dd09-4310-b5dd-54418b654b07",
   "metadata": {},
   "outputs": [],
   "source": [
    "df_filtered = df_filtered.na.fill(0)"
   ]
  },
  {
   "cell_type": "code",
   "execution_count": 24,
   "id": "6e6237f2-ed12-45fc-a31c-48ce984e43bd",
   "metadata": {},
   "outputs": [],
   "source": [
    "data1 = df_filtered\n",
    "data2 = df_filtered\n"
   ]
  },
  {
   "cell_type": "code",
   "execution_count": 25,
   "id": "1ba338e5-6737-43b1-9ebe-36bcf69be56e",
   "metadata": {},
   "outputs": [
    {
     "name": "stdout",
     "output_type": "stream",
     "text": [
      "+---+--------------+--------------+---------+-----+\n",
      "| id|subreddit_name|subreddit_nsfw|sentiment|score|\n",
      "+---+--------------+--------------+---------+-----+\n",
      "+---+--------------+--------------+---------+-----+\n",
      "\n"
     ]
    }
   ],
   "source": [
    "# Фильтрация строк с null значениями\n",
    "rows_with_null = data1.filter(col(\"subreddit_nsfw\").isNull() | col(\"sentiment\").isNull() | col(\"score\").isNull())\n",
    "\n",
    "# Отображение этих строк\n",
    "rows_with_null.show()"
   ]
  },
  {
   "cell_type": "code",
   "execution_count": 26,
   "id": "df4b3842-a786-41bc-8fb0-d2296a12856f",
   "metadata": {},
   "outputs": [
    {
     "name": "stdout",
     "output_type": "stream",
     "text": [
      "+---+--------------+--------------+---------+-----+\n",
      "| id|subreddit_name|subreddit_nsfw|sentiment|score|\n",
      "+---+--------------+--------------+---------+-----+\n",
      "+---+--------------+--------------+---------+-----+\n",
      "\n"
     ]
    }
   ],
   "source": [
    "# Фильтрация строк с null значениями\n",
    "rows_with_null = data2.filter(col(\"subreddit_nsfw\").isNull() | col(\"sentiment\").isNull() | col(\"score\").isNull())\n",
    "\n",
    "# Отображение этих строк\n",
    "rows_with_null.show()"
   ]
  },
  {
   "cell_type": "code",
   "execution_count": 27,
   "id": "f89ee119-4516-4b0f-b127-602f581157b2",
   "metadata": {},
   "outputs": [],
   "source": [
    "# Создание вектора признаков\n",
    "feature_columns = [\"subreddit_nsfw\", \"sentiment\"]\n",
    "assembler = VectorAssembler(inputCols=feature_columns, outputCol=\"features\", handleInvalid=\"skip\")\n",
    "df_regression = assembler.transform(data1)\n",
    "df_regression = df_regression.na.fill(0)  # Заменить null на 0"
   ]
  },
  {
   "cell_type": "code",
   "execution_count": 28,
   "id": "6aed8041-5712-4f91-bd10-64f2d5081a0c",
   "metadata": {},
   "outputs": [],
   "source": [
    "# Разделение на обучающую и тестовую выборки\n",
    "(train_data_regression, test_data_regression) = df_regression.randomSplit([0.8, 0.2], seed=123)"
   ]
  },
  {
   "cell_type": "code",
   "execution_count": 29,
   "id": "46479b4f-1813-4e3b-aaa5-2aa7b3349e7f",
   "metadata": {},
   "outputs": [],
   "source": [
    "# RandomForestRegressor\n",
    "rf_regression = RandomForestRegressor(featuresCol=\"features\", labelCol=\"score\")"
   ]
  },
  {
   "cell_type": "code",
   "execution_count": 30,
   "id": "8d601ec5-88a8-48d5-8c89-f64dc29c4e79",
   "metadata": {},
   "outputs": [],
   "source": [
    "# Подбор гиперпараметров\n",
    "param_grid_rf_regression = ParamGridBuilder() \\\n",
    "    .addGrid(rf_regression.numTrees, [10, 20, 30]) \\\n",
    "    .addGrid(rf_regression.maxDepth, [5, 10, 15]) \\\n",
    "    .build()"
   ]
  },
  {
   "cell_type": "code",
   "execution_count": 31,
   "id": "a611cdcf-c52b-42aa-9853-8a64d6cc6aee",
   "metadata": {},
   "outputs": [],
   "source": [
    "# Кросс-валидация\n",
    "evaluator_rf_regression = RegressionEvaluator(labelCol=\"score\", predictionCol=\"prediction\", metricName=\"rmse\")\n",
    "cv_rf_regression = CrossValidator(estimator=rf_regression, estimatorParamMaps=param_grid_rf_regression, evaluator=evaluator_rf_regression, numFolds=3)"
   ]
  },
  {
   "cell_type": "code",
   "execution_count": 32,
   "id": "1bdac748-614b-45a5-95c1-0dbb9bf5d424",
   "metadata": {},
   "outputs": [],
   "source": [
    "# Обучение модели\n",
    "model_rf_regression = cv_rf_regression.fit(train_data_regression)\n",
    "predictions_rf_regression = model_rf_regression.transform(test_data_regression)"
   ]
  },
  {
   "cell_type": "code",
   "execution_count": 33,
   "id": "54dd6899-221a-4f64-a26f-42cc1d7df407",
   "metadata": {},
   "outputs": [
    {
     "name": "stdout",
     "output_type": "stream",
     "text": [
      "RandomForestRegressor RMSE: 2.503135601859707\n"
     ]
    }
   ],
   "source": [
    "# Оценка качества модели\n",
    "rmse_rf_regression = evaluator_rf_regression.evaluate(predictions_rf_regression)\n",
    "print(\"RandomForestRegressor RMSE:\", rmse_rf_regression)"
   ]
  },
  {
   "cell_type": "code",
   "execution_count": 34,
   "id": "a01fdfcf-aa90-437b-b3fd-336d1706a984",
   "metadata": {},
   "outputs": [],
   "source": [
    "# Создание вектора признаков\n",
    "feature_columns_classification = [\"subreddit_nsfw\", \"sentiment\"]\n",
    "assembler_classification = VectorAssembler(inputCols=feature_columns_classification, outputCol=\"features\")\n",
    "df_classification = assembler_classification.transform(data2)"
   ]
  },
  {
   "cell_type": "code",
   "execution_count": 35,
   "id": "d2f2cf3c-596e-4700-abb7-cdfe14a84987",
   "metadata": {},
   "outputs": [],
   "source": [
    "# Добавление бинарного признака (пример: score > 0.5)\n",
    "threshold_score_classification = 1\n",
    "df_classification = df_classification.withColumn(\"binary_feature\", when(df_classification[\"score\"] > threshold_score_classification, 1).otherwise(0))"
   ]
  },
  {
   "cell_type": "code",
   "execution_count": 36,
   "id": "0387859d-67b6-4c2d-b91c-9eb54cfeb10a",
   "metadata": {},
   "outputs": [],
   "source": [
    "# Разделение на обучающую и тестовую выборки\n",
    "(train_data_classification, test_data_classification) = df_classification.randomSplit([0.8, 0.2], seed=123)"
   ]
  },
  {
   "cell_type": "code",
   "execution_count": 37,
   "id": "eb6a844e-5d35-4370-9dfb-62ad9ca9a91b",
   "metadata": {},
   "outputs": [],
   "source": [
    "# Исключение столбца score\n",
    "df_classification = df_classification.drop(\"score\")"
   ]
  },
  {
   "cell_type": "code",
   "execution_count": 38,
   "id": "b93459ef-36be-4916-a90f-e7023f7c1f88",
   "metadata": {},
   "outputs": [],
   "source": [
    "# LogisticRegression\n",
    "lr_classification = LogisticRegression(featuresCol=\"features\", labelCol=\"binary_feature\")"
   ]
  },
  {
   "cell_type": "code",
   "execution_count": 39,
   "id": "a56327b0-958e-4512-9f15-b68e37713d01",
   "metadata": {},
   "outputs": [],
   "source": [
    "# Подбор гиперпараметров\n",
    "param_grid_lr_classification = ParamGridBuilder() \\\n",
    "    .addGrid(lr_classification.regParam, [0.01, 0.1, 1.0]) \\\n",
    "    .addGrid(lr_classification.elasticNetParam, [0.0, 0.5, 1.0]) \\\n",
    "    .build()"
   ]
  },
  {
   "cell_type": "code",
   "execution_count": 40,
   "id": "46547be0-0aef-4c4a-bed8-4cbb1b1e2b3d",
   "metadata": {},
   "outputs": [],
   "source": [
    "# Кросс-валидация\n",
    "evaluator_lr_classification = BinaryClassificationEvaluator(labelCol=\"binary_feature\", metricName=\"areaUnderROC\")\n",
    "cv_lr_classification = CrossValidator(estimator=lr_classification, estimatorParamMaps=param_grid_lr_classification, evaluator=evaluator_lr_classification, numFolds=3)"
   ]
  },
  {
   "cell_type": "code",
   "execution_count": 41,
   "id": "00d37020-adb3-409d-9ea6-824d3fd872fe",
   "metadata": {},
   "outputs": [],
   "source": [
    "# Обучение модели\n",
    "model_lr_classification = cv_lr_classification.fit(train_data_classification)\n",
    "predictions_lr_classification = model_lr_classification.transform(test_data_classification)"
   ]
  },
  {
   "cell_type": "code",
   "execution_count": 42,
   "id": "eac3abe8-be60-435d-a931-bd415dd4de08",
   "metadata": {},
   "outputs": [
    {
     "name": "stdout",
     "output_type": "stream",
     "text": [
      "LogisticRegression Area under ROC: 0.5\n"
     ]
    }
   ],
   "source": [
    "# Оценка качества модели\n",
    "area_under_roc_lr_classification = evaluator_lr_classification.evaluate(predictions_lr_classification)\n",
    "print(\"LogisticRegression Area under ROC:\", area_under_roc_lr_classification)"
   ]
  },
  {
   "cell_type": "code",
   "execution_count": null,
   "id": "50d92fef-fb70-4559-9414-65078700de4d",
   "metadata": {},
   "outputs": [],
   "source": []
  }
 ],
 "metadata": {
  "kernelspec": {
   "display_name": "Python 3 (ipykernel)",
   "language": "python",
   "name": "python3"
  },
  "language_info": {
   "codemirror_mode": {
    "name": "ipython",
    "version": 3
   },
   "file_extension": ".py",
   "mimetype": "text/x-python",
   "name": "python",
   "nbconvert_exporter": "python",
   "pygments_lexer": "ipython3",
   "version": "3.11.6"
  }
 },
 "nbformat": 4,
 "nbformat_minor": 5
}
