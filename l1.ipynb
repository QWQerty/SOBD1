{
 "cells": [
  {
   "cell_type": "code",
   "execution_count": 1,
   "id": "cc76b778-dabe-4ad3-840d-98f746d352a7",
   "metadata": {},
   "outputs": [],
   "source": [
    "# Import other modules not related to PySpark\n",
    "import os\n",
    "import sys\n",
    "import pandas as pd\n",
    "from pandas import DataFrame\n",
    "import numpy as np\n",
    "import matplotlib.pyplot as plt\n",
    "import matplotlib.ticker as mtick\n",
    "import matplotlib\n",
    "from mpl_toolkits.mplot3d import Axes3D\n",
    "import math\n",
    "from IPython.core.interactiveshell import InteractiveShell\n",
    "from datetime import *\n",
    "import statistics as stats\n",
    "# This helps auto print out the items without explixitly using 'print'\n",
    "InteractiveShell.ast_node_interactivity = \"all\" \n",
    "%matplotlib inline"
   ]
  },
  {
   "cell_type": "code",
   "execution_count": 2,
   "id": "266a9780-9ecf-49ab-8e24-1eebd167716e",
   "metadata": {},
   "outputs": [
    {
     "name": "stdout",
     "output_type": "stream",
     "text": [
      "Data frame type: <class 'pyspark.sql.dataframe.DataFrame'>\n"
     ]
    }
   ],
   "source": [
    "# Import PySpark related modules\n",
    "import pyspark\n",
    "from pyspark.rdd import RDD\n",
    "from pyspark.sql import Row\n",
    "from pyspark.sql import DataFrame\n",
    "from pyspark.sql import SparkSession\n",
    "from pyspark.sql import SQLContext\n",
    "from pyspark.sql import functions\n",
    "from pyspark.sql.functions import lit, desc, col, size, array_contains\\\n",
    ", isnan, udf, hour, array_min, array_max, countDistinct\n",
    "from pyspark.sql.types import *\n",
    "\n",
    "MAX_MEMORY = '15G'\n",
    "# Initialize a spark session.\n",
    "conf = pyspark.SparkConf().setMaster(\"local[*]\") \\\n",
    "        .set('spark.executor.heartbeatInterval', 10000) \\\n",
    "        .set('spark.network.timeout', 10000) \\\n",
    "        .set(\"spark.core.connection.ack.wait.timeout\", \"3600\") \\\n",
    "        .set(\"spark.executor.memory\", MAX_MEMORY) \\\n",
    "        .set(\"spark.driver.memory\", MAX_MEMORY)\n",
    "def init_spark():\n",
    "    spark = SparkSession \\\n",
    "        .builder \\\n",
    "        .appName(\"COVID\") \\\n",
    "        .config(conf=conf) \\\n",
    "        .getOrCreate()\n",
    "    return spark\n",
    "\n",
    "spark = init_spark()\n",
    "filename_data = 'the-reddit-covid-dataset-comments.csv'\n",
    "# Load the main data set into pyspark data frame \n",
    "df = spark.read.csv(filename_data, header=True, inferSchema=True)\n",
    "print('Data frame type: ' + str(type(df)))"
   ]
  },
  {
   "cell_type": "code",
   "execution_count": 3,
   "id": "fa9e7542-b0a2-466f-a495-f7caf8e2d777",
   "metadata": {},
   "outputs": [],
   "source": [
    "# Создайте выборку\n",
    "df = df.sample(withReplacement=False, fraction=0.01, seed=42)"
   ]
  },
  {
   "cell_type": "code",
   "execution_count": 4,
   "id": "becda39e-cf1c-4130-8c3a-c72fcb7dfe71",
   "metadata": {},
   "outputs": [
    {
     "name": "stdout",
     "output_type": "stream",
     "text": [
      "Columns overview\n"
     ]
    },
    {
     "data": {
      "text/html": [
       "<div>\n",
       "<style scoped>\n",
       "    .dataframe tbody tr th:only-of-type {\n",
       "        vertical-align: middle;\n",
       "    }\n",
       "\n",
       "    .dataframe tbody tr th {\n",
       "        vertical-align: top;\n",
       "    }\n",
       "\n",
       "    .dataframe thead th {\n",
       "        text-align: right;\n",
       "    }\n",
       "</style>\n",
       "<table border=\"1\" class=\"dataframe\">\n",
       "  <thead>\n",
       "    <tr style=\"text-align: right;\">\n",
       "      <th></th>\n",
       "      <th>Column Name</th>\n",
       "      <th>Data type</th>\n",
       "    </tr>\n",
       "  </thead>\n",
       "  <tbody>\n",
       "    <tr>\n",
       "      <th>0</th>\n",
       "      <td>type</td>\n",
       "      <td>string</td>\n",
       "    </tr>\n",
       "    <tr>\n",
       "      <th>1</th>\n",
       "      <td>id</td>\n",
       "      <td>string</td>\n",
       "    </tr>\n",
       "    <tr>\n",
       "      <th>2</th>\n",
       "      <td>subreddit.id</td>\n",
       "      <td>string</td>\n",
       "    </tr>\n",
       "    <tr>\n",
       "      <th>3</th>\n",
       "      <td>subreddit.name</td>\n",
       "      <td>string</td>\n",
       "    </tr>\n",
       "    <tr>\n",
       "      <th>4</th>\n",
       "      <td>subreddit.nsfw</td>\n",
       "      <td>string</td>\n",
       "    </tr>\n",
       "    <tr>\n",
       "      <th>5</th>\n",
       "      <td>created_utc</td>\n",
       "      <td>string</td>\n",
       "    </tr>\n",
       "    <tr>\n",
       "      <th>6</th>\n",
       "      <td>permalink</td>\n",
       "      <td>string</td>\n",
       "    </tr>\n",
       "    <tr>\n",
       "      <th>7</th>\n",
       "      <td>body</td>\n",
       "      <td>string</td>\n",
       "    </tr>\n",
       "    <tr>\n",
       "      <th>8</th>\n",
       "      <td>sentiment</td>\n",
       "      <td>string</td>\n",
       "    </tr>\n",
       "    <tr>\n",
       "      <th>9</th>\n",
       "      <td>score</td>\n",
       "      <td>string</td>\n",
       "    </tr>\n",
       "  </tbody>\n",
       "</table>\n",
       "</div>"
      ],
      "text/plain": [
       "      Column Name Data type\n",
       "0            type    string\n",
       "1              id    string\n",
       "2    subreddit.id    string\n",
       "3  subreddit.name    string\n",
       "4  subreddit.nsfw    string\n",
       "5     created_utc    string\n",
       "6       permalink    string\n",
       "7            body    string\n",
       "8       sentiment    string\n",
       "9           score    string"
      ]
     },
     "execution_count": 4,
     "metadata": {},
     "output_type": "execute_result"
    }
   ],
   "source": [
    "print('Columns overview')\n",
    "pd.DataFrame(df.dtypes, columns = ['Column Name','Data type'])"
   ]
  },
  {
   "cell_type": "code",
   "execution_count": 5,
   "id": "af575641-c536-4a98-bfdf-73d1d2cb01c8",
   "metadata": {},
   "outputs": [
    {
     "data": {
      "text/html": [
       "<div>\n",
       "<style scoped>\n",
       "    .dataframe tbody tr th:only-of-type {\n",
       "        vertical-align: middle;\n",
       "    }\n",
       "\n",
       "    .dataframe tbody tr th {\n",
       "        vertical-align: top;\n",
       "    }\n",
       "\n",
       "    .dataframe thead th {\n",
       "        text-align: right;\n",
       "    }\n",
       "</style>\n",
       "<table border=\"1\" class=\"dataframe\">\n",
       "  <thead>\n",
       "    <tr style=\"text-align: right;\">\n",
       "      <th></th>\n",
       "      <th>Column Name</th>\n",
       "      <th>Data type</th>\n",
       "    </tr>\n",
       "  </thead>\n",
       "  <tbody>\n",
       "    <tr>\n",
       "      <th>0</th>\n",
       "      <td>type</td>\n",
       "      <td>string</td>\n",
       "    </tr>\n",
       "    <tr>\n",
       "      <th>1</th>\n",
       "      <td>id</td>\n",
       "      <td>string</td>\n",
       "    </tr>\n",
       "    <tr>\n",
       "      <th>2</th>\n",
       "      <td>subreddit_id</td>\n",
       "      <td>string</td>\n",
       "    </tr>\n",
       "    <tr>\n",
       "      <th>3</th>\n",
       "      <td>subreddit_name</td>\n",
       "      <td>string</td>\n",
       "    </tr>\n",
       "    <tr>\n",
       "      <th>4</th>\n",
       "      <td>subreddit_nsfw</td>\n",
       "      <td>string</td>\n",
       "    </tr>\n",
       "    <tr>\n",
       "      <th>5</th>\n",
       "      <td>created_utc</td>\n",
       "      <td>string</td>\n",
       "    </tr>\n",
       "    <tr>\n",
       "      <th>6</th>\n",
       "      <td>permalink</td>\n",
       "      <td>string</td>\n",
       "    </tr>\n",
       "    <tr>\n",
       "      <th>7</th>\n",
       "      <td>body</td>\n",
       "      <td>string</td>\n",
       "    </tr>\n",
       "    <tr>\n",
       "      <th>8</th>\n",
       "      <td>sentiment</td>\n",
       "      <td>string</td>\n",
       "    </tr>\n",
       "    <tr>\n",
       "      <th>9</th>\n",
       "      <td>score</td>\n",
       "      <td>string</td>\n",
       "    </tr>\n",
       "  </tbody>\n",
       "</table>\n",
       "</div>"
      ],
      "text/plain": [
       "      Column Name Data type\n",
       "0            type    string\n",
       "1              id    string\n",
       "2    subreddit_id    string\n",
       "3  subreddit_name    string\n",
       "4  subreddit_nsfw    string\n",
       "5     created_utc    string\n",
       "6       permalink    string\n",
       "7            body    string\n",
       "8       sentiment    string\n",
       "9           score    string"
      ]
     },
     "execution_count": 5,
     "metadata": {},
     "output_type": "execute_result"
    },
    {
     "name": "stdout",
     "output_type": "stream",
     "text": [
      "root\n",
      " |-- type: string (nullable = true)\n",
      " |-- id: string (nullable = true)\n",
      " |-- subreddit_id: string (nullable = true)\n",
      " |-- subreddit_name: string (nullable = true)\n",
      " |-- subreddit_nsfw: string (nullable = true)\n",
      " |-- created_utc: string (nullable = true)\n",
      " |-- permalink: string (nullable = true)\n",
      " |-- body: string (nullable = true)\n",
      " |-- sentiment: string (nullable = true)\n",
      " |-- score: string (nullable = true)\n",
      "\n"
     ]
    }
   ],
   "source": [
    "# Задайте новые имена столбцов\n",
    "new_column_names = ['type', 'id', 'subreddit_id', 'subreddit_name', 'subreddit_nsfw', 'created_utc', 'permalink', 'body', 'sentiment', 'score'] \n",
    "# Создайте новый датасет с новыми именами столбцов, сохраняя типы данных\n",
    "df = df.toDF(*new_column_names)\n",
    "\n",
    "pd.DataFrame(df.dtypes, columns = ['Column Name','Data type'])\n",
    "df.printSchema()"
   ]
  },
  {
   "cell_type": "code",
   "execution_count": 6,
   "id": "218b0c38-e4fe-4518-833b-97359cd1d4d8",
   "metadata": {},
   "outputs": [
    {
     "name": "stdout",
     "output_type": "stream",
     "text": [
      "+-------+--------------+--------------+---------+-----+\n",
      "|     id|subreddit_name|subreddit_nsfw|sentiment|score|\n",
      "+-------+--------------+--------------+---------+-----+\n",
      "|   NULL|          NULL|          NULL|     NULL| NULL|\n",
      "|hi1v4vl|        canada|         false|  -0.7269|    1|\n",
      "|hi1uyme|  conservative|         false|     NULL| NULL|\n",
      "|hi1udht|       jontron|         false|     NULL| NULL|\n",
      "+-------+--------------+--------------+---------+-----+\n",
      "only showing top 4 rows\n",
      "\n"
     ]
    }
   ],
   "source": [
    "# Оставление только указанных столбцов\n",
    "selected_columns = ['id', 'subreddit_name', 'subreddit_nsfw', 'sentiment', 'score']\n",
    "df = df.select(selected_columns)\n",
    "\n",
    "# Показать результат\n",
    "df.show(4)"
   ]
  },
  {
   "cell_type": "code",
   "execution_count": 7,
   "id": "f7e1b473-62d7-44f9-aec8-724e44c3c655",
   "metadata": {},
   "outputs": [
    {
     "name": "stdout",
     "output_type": "stream",
     "text": [
      "+-------+--------------+--------------+---------+-----+\n",
      "|     id|subreddit_name|subreddit_nsfw|sentiment|score|\n",
      "+-------+--------------+--------------+---------+-----+\n",
      "|hi1v4vl|        canada|         false|  -0.7269|    1|\n",
      "|hi1satq|           nrl|         false|  -0.7506|   46|\n",
      "+-------+--------------+--------------+---------+-----+\n",
      "only showing top 2 rows\n",
      "\n"
     ]
    }
   ],
   "source": [
    "df = df.na.drop(subset=['id', 'subreddit_name', 'subreddit_nsfw', 'sentiment', 'score'])\n",
    "df.show(2)"
   ]
  },
  {
   "cell_type": "code",
   "execution_count": 8,
   "id": "438c7ffa-1912-4f09-85ae-5d81b7cfb8a4",
   "metadata": {},
   "outputs": [],
   "source": [
    "# Преобразование столбца \"sentiment\" в числовой формат\n",
    "df = df.withColumn(\"sentiment\", col(\"sentiment\").cast(FloatType()))\n",
    "\n",
    "# Преобразование столбца \"sentiment\" в числовой формат\n",
    "df = df.withColumn(\"score\", col(\"score\").cast(FloatType()))"
   ]
  },
  {
   "cell_type": "code",
   "execution_count": 9,
   "id": "3c4a6cdc-c82a-495e-93b3-dc03089f3156",
   "metadata": {},
   "outputs": [
    {
     "name": "stdout",
     "output_type": "stream",
     "text": [
      "+-------+--------------+--------------+---------+-----+\n",
      "|     id|subreddit_name|subreddit_nsfw|sentiment|score|\n",
      "+-------+--------------+--------------+---------+-----+\n",
      "|hi1v4vl|        canada|         false|  -0.7269|  1.0|\n",
      "|hi1q4qb|toiletpaperusa|         false|   0.4815|  3.0|\n",
      "|hi1pi1o|    ukpolitics|         false|  -0.9432|  1.0|\n",
      "+-------+--------------+--------------+---------+-----+\n",
      "only showing top 3 rows\n",
      "\n"
     ]
    }
   ],
   "source": [
    "# Определение квартилей для каждого столбца\n",
    "quantiles = df.stat.approxQuantile([\"sentiment\", \"score\"], [0.25, 0.75], 0.05)\n",
    "\n",
    "# Рассчет межквартильного размаха (IQR)\n",
    "IQR_sentiment = quantiles[0][1] - quantiles[0][0]\n",
    "IQR_score = quantiles[1][1] - quantiles[1][0]\n",
    "\n",
    "# Определение границ выбросов\n",
    "lower_bound_sentiment = quantiles[0][0] - 1.5 * IQR_sentiment\n",
    "upper_bound_sentiment = quantiles[0][1] + 1.5 * IQR_sentiment\n",
    "\n",
    "lower_bound_score = quantiles[1][0] - 1.5 * IQR_score\n",
    "upper_bound_score = quantiles[1][1] + 1.5 * IQR_score\n",
    "\n",
    "# Фильтрация данных для удаления выбросов\n",
    "df_filtered = df.filter((col(\"sentiment\").between(lower_bound_sentiment, upper_bound_sentiment)) &\n",
    "                        (col(\"score\").between(lower_bound_score, upper_bound_score)))\n",
    "\n",
    "# Показать результат\n",
    "df_filtered.show(3)"
   ]
  },
  {
   "cell_type": "code",
   "execution_count": 10,
   "id": "d9c4adaf-6b51-4084-9567-6edcee3d191f",
   "metadata": {},
   "outputs": [
    {
     "name": "stdout",
     "output_type": "stream",
     "text": [
      "+-------+------+-----------------+------------------+--------------------+------------------+\n",
      "|summary|    id|   subreddit_name|    subreddit_nsfw|           sentiment|             score|\n",
      "+-------+------+-----------------+------------------+--------------------+------------------+\n",
      "|  count| 68557|            68557|             68557|               68557|             68557|\n",
      "|   mean|2020.0|373.0833333333333|              11.5|0.033164276435660625|  2.56109514710387|\n",
      "| stddev|  NULL|504.2159575856936|2.1213203435596424|  0.5534243957659374|2.7261618785857538|\n",
      "+-------+------+-----------------+------------------+--------------------+------------------+\n",
      "only showing top 3 rows\n",
      "\n"
     ]
    }
   ],
   "source": [
    "# Вычисление статистических показателей\n",
    "summary = df_filtered.describe()\n",
    "\n",
    "# Показать результат\n",
    "summary.show(3)"
   ]
  },
  {
   "cell_type": "code",
   "execution_count": 11,
   "id": "c4d93ec2-2031-40b2-8bbd-bbeabc85cc3c",
   "metadata": {},
   "outputs": [
    {
     "name": "stdout",
     "output_type": "stream",
     "text": [
      "Mean Score: 2.56109514710387\n",
      "25th Percentile: 1.0\n",
      "50th Percentile (Median): 2.0\n",
      "75th Percentile: 3.0\n"
     ]
    }
   ],
   "source": [
    "from pyspark.sql import SparkSession\n",
    "from pyspark.sql.functions import mean\n",
    "# Вычисление среднего значения\n",
    "mean_score = df_filtered.select(mean(\"score\").alias(\"mean_score\")).collect()[0][\"mean_score\"]\n",
    "\n",
    "# Вычисление квартилей (25%, 50%, 75%) для столбца \"score\"\n",
    "quantiles_score = df_filtered.stat.approxQuantile(\"score\", [0.25, 0.5, 0.75], 0.05)\n",
    "\n",
    "# Печать результатов\n",
    "print(f\"Mean Score: {mean_score}\")\n",
    "print(f\"25th Percentile: {quantiles_score[0]}\")\n",
    "print(f\"50th Percentile (Median): {quantiles_score[1]}\")\n",
    "print(f\"75th Percentile: {quantiles_score[2]}\")"
   ]
  },
  {
   "cell_type": "code",
   "execution_count": 12,
   "id": "ca6b9566-0fd0-409f-a904-42f655550500",
   "metadata": {},
   "outputs": [
    {
     "name": "stdout",
     "output_type": "stream",
     "text": [
      "Mean Score: 0.033164276435660625\n",
      "25th Percentile: -0.4449000060558319\n",
      "50th Percentile (Median): 0.0\n",
      "75th Percentile: 0.429500013589859\n"
     ]
    }
   ],
   "source": [
    "# Вычисление среднего значения\n",
    "mean_score = df_filtered.select(mean(\"sentiment\").alias(\"mean_sentiment\")).collect()[0][\"mean_sentiment\"]\n",
    "\n",
    "# Вычисление квартилей (25%, 50%, 75%) для столбца \"sentiment\"\n",
    "quantiles_score = df_filtered.stat.approxQuantile(\"sentiment\", [0.25, 0.5, 0.75], 0.05)\n",
    "\n",
    "# Печать результатов\n",
    "print(f\"Mean Score: {mean_score}\")\n",
    "print(f\"25th Percentile: {quantiles_score[0]}\")\n",
    "print(f\"50th Percentile (Median): {quantiles_score[1]}\")\n",
    "print(f\"75th Percentile: {quantiles_score[2]}\")"
   ]
  },
  {
   "cell_type": "code",
   "execution_count": 13,
   "id": "736dbe5a-36bc-4788-b581-f97eebd1baa8",
   "metadata": {},
   "outputs": [
    {
     "name": "stdout",
     "output_type": "stream",
     "text": [
      "        subreddit_grouped  total_count  total_percentage\n",
      "0                   Other         4528          6.604723\n",
      "1               askreddit         2678          3.906239\n",
      "2                politics         2310          3.369459\n",
      "3             coronavirus         1768          2.578876\n",
      "4              conspiracy         1475          2.151494\n",
      "...                   ...          ...               ...\n",
      "4132                piano            2          0.002917\n",
      "4133               runnyc            2          0.002917\n",
      "4134            reloading            2          0.002917\n",
      "4135  crackheadcraigslist            2          0.002917\n",
      "4136      highereducation            2          0.002917\n",
      "\n",
      "[4137 rows x 3 columns]\n"
     ]
    }
   ],
   "source": [
    "from pyspark.sql.functions import col, count, lit, when, sum\n",
    "# Вычисление частоты появления каждого subreddit\n",
    "subreddit_counts = df_filtered.groupBy(\"subreddit_name\").agg(count(\"*\").alias(\"count\"))\n",
    "\n",
    "# Вычисление общего количества записей\n",
    "total_count = df_filtered.count()\n",
    "\n",
    "# Вычисление процентного соотношения\n",
    "subreddit_percentages = subreddit_counts.withColumn(\n",
    "    \"percentage\",\n",
    "    (col(\"count\") / total_count * 100).cast(\"double\")\n",
    ")\n",
    "\n",
    "# Определение порога для объединения в группу Other (например, значения, которые встречаются только один раз)\n",
    "threshold = 1\n",
    "\n",
    "# Фильтрация значений для группировки в Other\n",
    "subreddit_percentages_filtered = (\n",
    "    subreddit_percentages\n",
    "    .withColumn(\"subreddit_grouped\", \n",
    "                when(col(\"count\") > threshold, col(\"subreddit_name\"))\n",
    "                .otherwise(lit(\"Other\")))\n",
    "    .groupBy(\"subreddit_grouped\")\n",
    "    .agg(sum(\"count\").alias(\"total_count\"), sum(\"percentage\").alias(\"total_percentage\"))\n",
    "    .orderBy(\"total_percentage\", ascending=False)\n",
    ")\n",
    "\n",
    "# Преобразовываем результаты в Pandas DataFrame\n",
    "subreddit_percentages_filtered_pd = subreddit_percentages_filtered.toPandas()\n",
    "\n",
    "# Печать результатов с параметром truncate=False\n",
    "print(subreddit_percentages_filtered_pd)"
   ]
  },
  {
   "cell_type": "code",
   "execution_count": 14,
   "id": "a7036476-1bff-44ca-be11-0d1daffed035",
   "metadata": {},
   "outputs": [
    {
     "name": "stdout",
     "output_type": "stream",
     "text": [
      "NSFW: 501 элементов, 0.74%\n",
      "SFW: 67657 элементов, 99.26%\n"
     ]
    }
   ],
   "source": [
    "nsfw_column = \"subreddit_nsfw\"\n",
    "\n",
    "# Преобразуем строковые значения в булев тип\n",
    "df_filtered = df_filtered.withColumn(nsfw_column, col(nsfw_column).cast(\"boolean\"))\n",
    "\n",
    "# Группируем по столбцу NSFW и считаем количество элементов в каждой группе\n",
    "grouped_df = df_filtered.groupBy(nsfw_column).count()\n",
    "\n",
    "# Получаем количество элементов в каждой группе\n",
    "nsfw_count = grouped_df.filter(col(nsfw_column) == True).select(\"count\").first()[0]\n",
    "sfw_count = grouped_df.filter(col(nsfw_column) == False).select(\"count\").first()[0]\n",
    "\n",
    "# Выводим процентное соотношение\n",
    "total_count = nsfw_count + sfw_count\n",
    "nsfw_percentage = (nsfw_count / total_count) * 100\n",
    "sfw_percentage = (sfw_count / total_count) * 100\n",
    "\n",
    "# Выводим результат\n",
    "print(f\"NSFW: {nsfw_count} элементов, {nsfw_percentage:.2f}%\")\n",
    "print(f\"SFW: {sfw_count} элементов, {sfw_percentage:.2f}%\")\n",
    "\n",
    "# Отображаем график\n",
    "plt.show()"
   ]
  },
  {
   "cell_type": "code",
   "execution_count": 15,
   "id": "965160e5-5785-4705-9f85-2001f2cb4d9c",
   "metadata": {},
   "outputs": [
    {
     "data": {
      "text/plain": [
       "<BarContainer object of 9 artists>"
      ]
     },
     "execution_count": 15,
     "metadata": {},
     "output_type": "execute_result"
    },
    {
     "data": {
      "text/plain": [
       "Text(0.5, 0, 'Sentiment Group')"
      ]
     },
     "execution_count": 15,
     "metadata": {},
     "output_type": "execute_result"
    },
    {
     "data": {
      "text/plain": [
       "Text(0, 0.5, 'Count')"
      ]
     },
     "execution_count": 15,
     "metadata": {},
     "output_type": "execute_result"
    },
    {
     "data": {
      "text/plain": [
       "Text(0.5, 1.0, 'Sentiment Analysis Distribution')"
      ]
     },
     "execution_count": 15,
     "metadata": {},
     "output_type": "execute_result"
    },
    {
     "data": {
      "image/png": "[encoded data removed]",
      "text/plain": [
       "<Figure size 640x480 with 1 Axes>"
      ]
     },
     "metadata": {},
     "output_type": "display_data"
    }
   ],
   "source": [
    "# Группировка по диапазонам и подсчет количества элементов в каждой группе\n",
    "grouped_df = df_filtered.groupBy(((col(\"sentiment\") / 0.2).cast(\"int\") * 0.2).alias(\"sentiment_group\")).count()\n",
    "\n",
    "# Сортировка результатов по группам\n",
    "grouped_df = grouped_df.sort(\"sentiment_group\")\n",
    "\n",
    "# Конвертация в Pandas DataFrame для удобства работы с matplotlib\n",
    "pandas_df = grouped_df.toPandas()\n",
    "\n",
    "# Вывод результатов на график\n",
    "plt.bar(pandas_df[\"sentiment_group\"], pandas_df[\"count\"], width=0.2)\n",
    "plt.xlabel(\"Sentiment Group\")\n",
    "plt.ylabel(\"Count\")\n",
    "plt.title(\"Sentiment Analysis Distribution\")\n",
    "plt.show()"
   ]
  },
  {
   "cell_type": "code",
   "execution_count": 16,
   "id": "e27b121a-0ac4-42eb-ba28-bc6546eddc30",
   "metadata": {},
   "outputs": [
    {
     "name": "stdout",
     "output_type": "stream",
     "text": [
      "+---------------+----------+\n",
      "| subreddit_name|sum(score)|\n",
      "+---------------+----------+\n",
      "|       politics|    5942.0|\n",
      "|    coronavirus|    4812.0|\n",
      "|      askreddit|    4750.0|\n",
      "|     conspiracy|    3058.0|\n",
      "|           news|    2959.0|\n",
      "|      worldnews|    2036.0|\n",
      "|    nonewnormal|    1947.0|\n",
      "| wallstreetbets|    1888.0|\n",
      "|hermancainaward|    1744.0|\n",
      "| publicfreakout|    1302.0|\n",
      "+---------------+----------+\n",
      "\n"
     ]
    }
   ],
   "source": [
    "# Группировка по subreddit_name и подсчет суммы score для каждого subreddit_name\n",
    "subreddit_scores = df_filtered.groupBy(\"subreddit_name\").sum(\"score\")\n",
    "\n",
    "# Сортировка результатов по убыванию score и выбор топ-10\n",
    "top_subreddits = subreddit_scores.sort(col(\"sum(score)\").desc()).limit(10)\n",
    "\n",
    "# Показ результатов\n",
    "top_subreddits.show()"
   ]
  },
  {
   "cell_type": "code",
   "execution_count": 17,
   "id": "1a573555-b9f3-4466-a31c-9e613d769020",
   "metadata": {},
   "outputs": [
    {
     "name": "stdout",
     "output_type": "stream",
     "text": [
      "Correlation between sentiment and score: 0.002129581974703576\n"
     ]
    }
   ],
   "source": [
    "# Вычисление коэффициента корреляции Пирсона\n",
    "correlation = df_filtered.corr(\"sentiment\", \"score\")\n",
    "\n",
    "# Вывод результата\n",
    "print(f\"Correlation between sentiment and score: {correlation}\")"
   ]
  }
 ],
 "metadata": {
  "kernelspec": {
   "display_name": "Python 3 (ipykernel)",
   "language": "python",
   "name": "python3"
  },
  "language_info": {
   "codemirror_mode": {
    "name": "ipython",
    "version": 3
   },
   "file_extension": ".py",
   "mimetype": "text/x-python",
   "name": "python",
   "nbconvert_exporter": "python",
   "pygments_lexer": "ipython3",
   "version": "3.11.6"
  }
 },
 "nbformat": 4,
 "nbformat_minor": 5
}
